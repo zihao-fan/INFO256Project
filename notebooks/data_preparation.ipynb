{
 "cells": [
  {
   "cell_type": "code",
   "execution_count": 6,
   "metadata": {},
   "outputs": [],
   "source": [
    "import numpy as np\n",
    "import pandas as pd\n",
    "import os\n",
    "import json"
   ]
  },
  {
   "cell_type": "code",
   "execution_count": 2,
   "metadata": {},
   "outputs": [],
   "source": [
    "stat_paper_50 = pd.read_csv('../data/stat_paper_50.csv')"
   ]
  },
  {
   "cell_type": "code",
   "execution_count": 3,
   "metadata": {},
   "outputs": [
    {
     "name": "stdout",
     "output_type": "stream",
     "text": [
      "                         id      issn  citescore  rank5  rank10\n",
      "0  53e99792b7602d9701f5b3b6  02776715       1.99      0       1\n",
      "1  53e99796b7602d9701f5e172  00225193       1.93      0       1\n",
      "2  53e997a6b7602d9701f78af9  13674811       7.84      0       0\n",
      "3  53e997aeb7602d9701f8da92  18638279       1.02      2       4\n",
      "4  53e997b2b7602d9701f912d5  00225193       1.93      0       1\n"
     ]
    }
   ],
   "source": [
    "print(stat_paper_50.head())"
   ]
  },
  {
   "cell_type": "code",
   "execution_count": 18,
   "metadata": {},
   "outputs": [],
   "source": [
    "paper_id, issn = stat_paper_50['id'].tolist(), stat_paper_50['issn'].tolist()\n",
    "paper2issn = {}\n",
    "for pid, pissn in zip(paper_id, issn):\n",
    "    paper2issn[pid] = pissn\n",
    "json.dump(paper2issn, open('../data/paper2issn.json', 'w'))"
   ]
  },
  {
   "cell_type": "code",
   "execution_count": 7,
   "metadata": {},
   "outputs": [],
   "source": [
    "def create_idx(column, save_path):\n",
    "    mapping = {}\n",
    "    array = column.tolist()\n",
    "    for id in array:\n",
    "        if id not in mapping:\n",
    "            mapping[id] = len(mapping) + 1\n",
    "    with open(save_path, 'w') as f:\n",
    "        json.dump(mapping, f)\n",
    "    print('Data saved at', save_path)\n",
    "    "
   ]
  },
  {
   "cell_type": "code",
   "execution_count": 8,
   "metadata": {},
   "outputs": [
    {
     "name": "stdout",
     "output_type": "stream",
     "text": [
      "Data saved at ../data/paper2idx.json\n"
     ]
    }
   ],
   "source": [
    "create_idx(stat_paper_50['id'], '../data/paper2idx.json')"
   ]
  },
  {
   "cell_type": "code",
   "execution_count": 9,
   "metadata": {},
   "outputs": [
    {
     "name": "stdout",
     "output_type": "stream",
     "text": [
      "Data saved at ../data/journal2idx.json\n"
     ]
    }
   ],
   "source": [
    "create_idx(stat_paper_50['issn'], '../data/journal2idx.json')"
   ]
  },
  {
   "cell_type": "code",
   "execution_count": 11,
   "metadata": {},
   "outputs": [],
   "source": [
    "abstract = pd.read_csv('../data/paper_abstract.csv')"
   ]
  },
  {
   "cell_type": "code",
   "execution_count": 15,
   "metadata": {},
   "outputs": [],
   "source": [
    "abstract = abstract[['id', 'abstract']]"
   ]
  },
  {
   "cell_type": "code",
   "execution_count": 17,
   "metadata": {},
   "outputs": [],
   "source": [
    "paper2abstract = {}\n",
    "paper_ids, paper_abstract = abstract['id'].tolist(), abstract['abstract'].tolist()\n",
    "for id, ab in zip(paper_ids, paper_abstract):\n",
    "    paper2abstract[id] = ab"
   ]
  },
  {
   "cell_type": "code",
   "execution_count": 24,
   "metadata": {},
   "outputs": [],
   "source": [
    "def create_dataset(paper2idx_path, journal2idx_path, paper2issn_path, paper2abstract):\n",
    "    paper2idx = json.load(open(paper2idx_path, 'r'))\n",
    "    journal2idx = json.load(open(journal2idx_path, 'r'))\n",
    "    paper2issn = json.load(open(paper2issn_path, 'r'))\n",
    "    \n",
    "    dataset = []\n",
    "    for paper_id, _ in paper2idx.items():\n",
    "        dataset.append({'paper_id': paper_id, \n",
    "                        'abstract':paper2abstract[paper_id], \n",
    "                        'journal_id':journal2idx[paper2issn[paper_id]]})\n",
    "    json.dump(dataset, open('../data/dataset_stat_50.json', 'w'))\n",
    "    return dataset\n",
    "    \n",
    "dataset = create_dataset('../data/paper2idx.json', \n",
    "                         '../data/journal2idx.json', \n",
    "                         '../data/paper2issn.json',\n",
    "                         paper2abstract)"
   ]
  },
  {
   "cell_type": "code",
   "execution_count": 32,
   "metadata": {},
   "outputs": [],
   "source": [
    "def train_val_test_split(dataset, train_ratio=0.8, val_ratio=0.1, test_ratio=0.1):\n",
    "    dataset = np.asarray(dataset)\n",
    "    permuted_idx = np.random.permutation(dataset.shape[0])\n",
    "    total_n = dataset.shape[0]\n",
    "    dataset = dataset[permuted_idx]\n",
    "    test_idx = int(total_n * test_ratio)\n",
    "    val_idx = int(total_n * (test_ratio + val_ratio))\n",
    "    train, val, test = dataset[:-val_idx], dataset[-val_idx:-test_idx], dataset[-test_idx:]\n",
    "    \n",
    "    train, val, test = train.tolist(), val.tolist(), test.tolist()\n",
    "    X_train = [data['abstract'] for data in train]\n",
    "    y_train = [data['journal_id'] for data in train]\n",
    "    X_val = [data['abstract'] for data in val]\n",
    "    y_val = [data['journal_id'] for data in val]\n",
    "    X_test = [data['abstract'] for data in test]\n",
    "    y_test = [data['journal_id'] for data in test]\n",
    "    \n",
    "    splitted_data = {'X_train': X_train, 'y_train': y_train,\n",
    "                    'X_val': X_val, 'y_val': y_val,\n",
    "                    'X_test': X_test, 'y_test': y_test}\n",
    "    np.save('../data/dataset_abstract_stat_50', splitted_data)\n",
    "    \n",
    "    \n",
    "train_val_test_split(dataset)"
   ]
  },
  {
   "cell_type": "code",
   "execution_count": null,
   "metadata": {},
   "outputs": [],
   "source": []
  }
 ],
 "metadata": {
  "kernelspec": {
   "display_name": "Python 3",
   "language": "python",
   "name": "python3"
  },
  "language_info": {
   "codemirror_mode": {
    "name": "ipython",
    "version": 3
   },
   "file_extension": ".py",
   "mimetype": "text/x-python",
   "name": "python",
   "nbconvert_exporter": "python",
   "pygments_lexer": "ipython3",
   "version": "3.6.8"
  }
 },
 "nbformat": 4,
 "nbformat_minor": 2
}
