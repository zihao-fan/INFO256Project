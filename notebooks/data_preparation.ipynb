{
 "cells": [
  {
   "cell_type": "code",
   "execution_count": 1,
   "metadata": {},
   "outputs": [],
   "source": [
    "import numpy as np\n",
    "import pandas as pd\n",
    "import os\n",
    "import json"
   ]
  },
  {
   "cell_type": "code",
   "execution_count": 47,
   "metadata": {},
   "outputs": [],
   "source": [
    "def get_paper2issn(use_all=False):\n",
    "    read_path = '../data/stat_paper.csv'\n",
    "    write_path = '../data/paper2issn.json'\n",
    "    if use_all:\n",
    "        read_path = '../data/paper_info_1990.csv'\n",
    "        write_path = '../data/paper2issn_all.json'\n",
    "    stat_paper = pd.read_csv(read_path)\n",
    "    paper_id, issn = stat_paper['id'].tolist(), stat_paper['issn'].tolist()\n",
    "    paper2issn = {}\n",
    "    for pid, pissn in zip(paper_id, issn):\n",
    "        paper2issn[pid] = pissn\n",
    "    json.dump(paper2issn, open(write_path, 'w'))"
   ]
  },
  {
   "cell_type": "code",
   "execution_count": 45,
   "metadata": {},
   "outputs": [],
   "source": [
    "get_paper2issn()"
   ]
  },
  {
   "cell_type": "code",
   "execution_count": 13,
   "metadata": {},
   "outputs": [],
   "source": [
    "def create_idx(column, save_path):\n",
    "    mapping = {}\n",
    "    array = column.tolist()\n",
    "    for id in array:\n",
    "        if id not in mapping:\n",
    "            mapping[id] = len(mapping) + 1\n",
    "    with open(save_path, 'w') as f:\n",
    "        json.dump(mapping, f)\n",
    "    print('Data saved at', save_path)"
   ]
  },
  {
   "cell_type": "code",
   "execution_count": 14,
   "metadata": {},
   "outputs": [
    {
     "name": "stdout",
     "output_type": "stream",
     "text": [
      "Data saved at ../data/paper2idx.json\n",
      "Data saved at ../data/journal2idx.json\n"
     ]
    }
   ],
   "source": [
    "stat_paper_50 = pd.read_csv('../data/stat_paper_50.csv')\n",
    "create_idx(stat_paper_50['id'], '../data/paper2idx.json')\n",
    "create_idx(stat_paper_50['issn'], '../data/journal2idx.json')"
   ]
  },
  {
   "cell_type": "code",
   "execution_count": 46,
   "metadata": {},
   "outputs": [
    {
     "name": "stdout",
     "output_type": "stream",
     "text": [
      "Data saved at ../data/journal2idx_all.json\n"
     ]
    }
   ],
   "source": [
    "all_paper = pd.read_csv('../data/paper_info_1990.csv')\n",
    "create_idx(all_paper['issn'], '../data/journal2idx_all.json')"
   ]
  },
  {
   "cell_type": "code",
   "execution_count": 4,
   "metadata": {},
   "outputs": [],
   "source": [
    "def get_paper2abstract():\n",
    "    abstract = pd.read_csv('../data/paper_abstract.csv')\n",
    "    paper2abstract = {}\n",
    "    paper_ids, paper_abstract = abstract['id'].tolist(), abstract['abstract'].tolist()\n",
    "    for id, ab in zip(paper_ids, paper_abstract):\n",
    "        paper2abstract[id] = ab\n",
    "    return paper2abstract"
   ]
  },
  {
   "cell_type": "code",
   "execution_count": 5,
   "metadata": {},
   "outputs": [],
   "source": [
    "def create_abstract_dataset(paper2idx_path, journal2idx_path, paper2issn_path, paper2abstract):\n",
    "    paper2idx = json.load(open(paper2idx_path, 'r'))\n",
    "    journal2idx = json.load(open(journal2idx_path, 'r'))\n",
    "    paper2issn = json.load(open(paper2issn_path, 'r'))\n",
    "    \n",
    "    dataset = []\n",
    "    for paper_id, _ in paper2idx.items():\n",
    "        dataset.append({'paper_id': paper_id, \n",
    "                        'abstract':paper2abstract[paper_id], \n",
    "                        'journal_id':journal2idx[paper2issn[paper_id]]})\n",
    "    json.dump(dataset, open('../data/dataset_stat_50.json', 'w'))\n",
    "    return dataset"
   ]
  },
  {
   "cell_type": "code",
   "execution_count": 24,
   "metadata": {},
   "outputs": [],
   "source": [
    "dataset = create_abstract_dataset('../data/paper2idx.json', \n",
    "                         '../data/journal2idx.json', \n",
    "                         '../data/paper2issn.json',\n",
    "                         paper2abstract)"
   ]
  },
  {
   "cell_type": "code",
   "execution_count": 8,
   "metadata": {},
   "outputs": [],
   "source": [
    "def train_val_test_split(dataset, \n",
    "                         save_path,\n",
    "                         feature_col, \n",
    "                         train_ratio=0.8, \n",
    "                         val_ratio=0.1, \n",
    "                         test_ratio=0.1):\n",
    "    dataset = np.asarray(dataset)\n",
    "    permuted_idx = np.random.permutation(dataset.shape[0])\n",
    "    total_n = dataset.shape[0]\n",
    "    dataset = dataset[permuted_idx]\n",
    "    test_idx = int(total_n * test_ratio)\n",
    "    val_idx = int(total_n * (test_ratio + val_ratio))\n",
    "    train, val, test = dataset[:-val_idx], dataset[-val_idx:-test_idx], dataset[-test_idx:]\n",
    "    \n",
    "    train, val, test = train.tolist(), val.tolist(), test.tolist()\n",
    "    X_train = [data[feature_col] for data in train]\n",
    "    y_train = [data['journal_id'] for data in train]\n",
    "    X_val = [data[feature_col] for data in val]\n",
    "    y_val = [data['journal_id'] for data in val]\n",
    "    X_test = [data[feature_col] for data in test]\n",
    "    y_test = [data['journal_id'] for data in test]\n",
    "    \n",
    "    splitted_data = {'X_train': X_train, 'y_train': y_train,\n",
    "                    'X_val': X_val, 'y_val': y_val,\n",
    "                    'X_test': X_test, 'y_test': y_test}\n",
    "    np.save(save_path, splitted_data)"
   ]
  },
  {
   "cell_type": "code",
   "execution_count": 32,
   "metadata": {},
   "outputs": [],
   "source": [
    "# split abstract dataset\n",
    "train_val_test_split(dataset, '../data/dataset_abstract_stat_50', feature_col='abstract')"
   ]
  },
  {
   "cell_type": "code",
   "execution_count": 21,
   "metadata": {},
   "outputs": [],
   "source": [
    "def get_paper2reference():\n",
    "    reference = pd.read_csv('../data/stat_paper_50_ref_chain.csv')\n",
    "    paper2reference = {}\n",
    "    paper_ids, paper_reference = reference['id'].tolist(), reference['ref_chain'].tolist()\n",
    "    for id, ref in zip(paper_ids, paper_reference):\n",
    "        paper2reference[id] = json.loads(ref.replace(\"'\", \"\\\"\"))\n",
    "    return paper2reference"
   ]
  },
  {
   "cell_type": "code",
   "execution_count": 22,
   "metadata": {},
   "outputs": [],
   "source": [
    "paper2reference = get_paper2reference()"
   ]
  },
  {
   "cell_type": "code",
   "execution_count": 53,
   "metadata": {},
   "outputs": [],
   "source": [
    "def create_reference_dataset(save_path,\n",
    "                            paper2idx_path, \n",
    "                             journal2idx_path, \n",
    "                             paper2issn_path, \n",
    "                             paper2reference):\n",
    "    \n",
    "    paper2idx = json.load(open(paper2idx_path, 'r'))\n",
    "    journal2idx = json.load(open(journal2idx_path, 'r'))\n",
    "    label2idx = json.load(open('../data/journal2idx.json', 'r'))\n",
    "    paper2issn = json.load(open(paper2issn_path, 'r'))\n",
    "    dataset = []\n",
    "    \n",
    "    for paper_id, _ in paper2idx.items():\n",
    "        ref_chain = []\n",
    "        for sublist in paper2reference[paper_id]:\n",
    "            for idx, item in enumerate(sublist):\n",
    "                if idx > 0 and item in paper2issn:\n",
    "                    ref_chain.append(journal2idx[paper2issn[item]])\n",
    "        \n",
    "        dataset.append({'paper_id': paper_id, \n",
    "                        'ref_chain': ref_chain, \n",
    "                        'journal_id':label2idx[paper2issn[paper_id]]})\n",
    "    json.dump(dataset, open(save_path, 'w'))\n",
    "    return dataset\n"
   ]
  },
  {
   "cell_type": "code",
   "execution_count": 55,
   "metadata": {},
   "outputs": [],
   "source": [
    "dataset = create_reference_dataset('../data/dataset_stat_50_ref.json',\n",
    "                        '../data/paper2idx.json', \n",
    "                         '../data/journal2idx_all.json', \n",
    "                         '../data/paper2issn_all.json',\n",
    "                         paper2reference)"
   ]
  },
  {
   "cell_type": "code",
   "execution_count": 56,
   "metadata": {},
   "outputs": [],
   "source": [
    "train_val_test_split(dataset, '../data/dataset_ref_stat_50', feature_col='ref_chain')"
   ]
  },
  {
   "cell_type": "code",
   "execution_count": null,
   "metadata": {},
   "outputs": [],
   "source": []
  }
 ],
 "metadata": {
  "kernelspec": {
   "display_name": "Python 3",
   "language": "python",
   "name": "python3"
  },
  "language_info": {
   "codemirror_mode": {
    "name": "ipython",
    "version": 3
   },
   "file_extension": ".py",
   "mimetype": "text/x-python",
   "name": "python",
   "nbconvert_exporter": "python",
   "pygments_lexer": "ipython3",
   "version": "3.6.8"
  }
 },
 "nbformat": 4,
 "nbformat_minor": 2
}
